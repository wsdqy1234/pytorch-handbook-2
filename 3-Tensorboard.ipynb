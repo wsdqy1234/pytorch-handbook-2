{
 "cells": [
  {
   "cell_type": "markdown",
   "metadata": {},
   "source": [
    "# 3. Tensorboard-可视化工具包\n",
    "原Tensorflow的最强可视化工具Tensorboard已在Torch 1.4+版本进行了适配，现在可以搭配`torch.utils.tensorboard.SummaryWriter`进行使用。\n",
    "\n",
    "Tensorboard支持追踪和可视化量化指标（如loss和accuracy），可视化模型图结构（没有Netron直观好用），展示直方图、图片等等。\n",
    "\n",
    "这里贴个官方文档[简介](https://pytorch.org/tutorials/recipes/recipes/tensorboard_with_pytorch.html)与[详细版](https://pytorch.org/tutorials/intermediate/tensorboard_tutorial.html)，关于[tensorboard的文档](https://pytorch.org/docs/stable/tensorboard.html)"
   ]
  },
  {
   "cell_type": "markdown",
   "metadata": {},
   "source": [
    "## 3.1 结合SummaryWriter使用Tensorboard简洁教程"
   ]
  },
  {
   "cell_type": "markdown",
   "metadata": {},
   "source": [
    "### 3.1.1 SummaryWriter保存标量Log信息\n",
    "利用`SummaryWriter`的`add_scalar(tag, scalar_value, global_step=None, walltime=None)`方法Log标量信息，默认保存在`./runs/`目录下。\n",
    "\n",
    "下面演示一下线性回归训练过程的标量Log信息保存"
   ]
  },
  {
   "cell_type": "code",
   "execution_count": 5,
   "metadata": {},
   "outputs": [],
   "source": [
    "import torch\n",
    "from torch.utils.tensorboard import SummaryWriter\n",
    "\n",
    "writer = SummaryWriter('./data/log/',comment='LinearRegression')\n",
    "\n",
    "# Data\n",
    "x = torch.arange(-5, 5, 0.1).view(-1, 1) # -5:0.1:5\n",
    "y = -5 * x + 0.1 * torch.randn(x.size()) # y = -5x + \\epsilon\n",
    "# Linear Regression\n",
    "model = torch.nn.Linear(1, 1)\n",
    "criterion = torch.nn.MSELoss()\n",
    "optimizer = torch.optim.SGD(model.parameters(), lr = 1e-2)\n",
    "\n",
    "# Train\n",
    "def LR_training(iter):\n",
    "    for epoch in range(iter):\n",
    "        y1 = model(x)\n",
    "        loss = criterion(y1, y)\n",
    "        writer.add_scalar(\"Loss/train\", loss, epoch) # global_step indicates the horizotal coordinate\n",
    "        optimizer.zero_grad()\n",
    "        loss.backward()\n",
    "        optimizer.step()\n",
    "\n",
    "if __name__ == \"__main__\":\n",
    "    epoch = 100\n",
    "    LR_training(epoch)\n",
    "    writer.flush() # make sure all the pending events have been written to disk\n",
    "    writer.close() # if u don't want to summary anything"
   ]
  },
  {
   "cell_type": "markdown",
   "metadata": {},
   "source": [
    "### 3.1.2 使用Tensorboard查看Log信息\n",
    "而后在终端输入`tensorboard --logdir=data/log`，其中logdir为保存log的路径，然后浏览器打开 http://localhost:6006/ 即可看到Log中的标量信息：\n",
    "\n",
    "<p align=center>\n",
    "<img src=\"./fig/3-1.png\" width=1000>\n",
    "</p>\n",
    "\n",
    "其中smoothing对结果做了平滑，用来看loss下降的趋势，默认为0.6"
   ]
  },
  {
   "cell_type": "markdown",
   "metadata": {},
   "source": [
    "## 3.2 SummaryWriter文档总结\n",
    "具体调用方式可以参考[torch.utils.tensorboard](https://pytorch.org/docs/stable/tensorboard.html)\n",
    "\n",
    "现假设利用SummaryWriter实例化了一个对象`writer`，可以使用`writer.add_scalar()`等方法向Log日志中添加输出信息，支持以下方法：\n",
    "\n",
    "|方法名|作用|\n",
    "|---|---|\n",
    "|add_scalar|1个tag加入1个标量|\n",
    "|add_scalars|1个tag加入多个标量|\n",
    "|add_histogram|加入直方图|\n",
    "|add_image|1个tag加入1张图片(3,H,W)|\n",
    "|add_images|1个tag加入多张图片(N,3,H,W)|\n",
    "|add_figure|将matplotlib的图加入|\n",
    "|add_text|加入语言描述，没啥用|\n",
    "|add_graph|加入模型结构图，我的评价是不如Netron|\n",
    "|add_embedding|加入低维embedding用于可视化|\n",
    "|add_mesh|加入网格/3D点云并可视化|\n",
    "|add_hparams|加入一系列超参来比对效果，很实用|"
   ]
  },
  {
   "cell_type": "markdown",
   "metadata": {},
   "source": [
    "## 3.3 Tensorboard常用方法\n",
    "以1-TorchModel.ipynb中VAE模型处理MNIST数据为例，阐述Tensorboard的常用方法."
   ]
  },
  {
   "cell_type": "code",
   "execution_count": null,
   "metadata": {},
   "outputs": [],
   "source": [
    "from lib import TorchModel\n",
    "from torchvision import datasets, transforms\n",
    "import torch.utils.data\n",
    "import torchvision\n",
    "\n",
    "writer2 = SummaryWriter('./data/log/', comment='VAE')\n",
    "\n",
    "# 0. Dataset Definition\n",
    "train_loader = torch.utils.data.DataLoader(\n",
    "    datasets.MNIST('./data', train = True, download = False, transform = transforms.ToTensor()),\n",
    "    batch_size = 64, shuffle = True)\n",
    "\n",
    "test_loader = torch.utils.data.DataLoader(\n",
    "    datasets.MNIST('./data', train = False, transform = transforms.ToTensor()),\n",
    "    batch_size = 64, shuffle = False)\n",
    "\n",
    "# 1. Show Samples in dataloader\n",
    "dataiter = iter(train_loader)\n",
    "(images, labels) = next(dataiter)\n",
    "img_grid = torchvision.utils.make_grid(images, nrow = 8) # Combine this batch of samples into a grid image\n",
    "writer2.add_image('A batch of samples', img_grid)\n",
    "\n",
    "# 2. Visualize the model\n",
    "vae = TorchModel.VAE()\n",
    "writer2.add_graph(vae, images) # Reparameterize would get TracerWarning from Tensorboard\n",
    "\n",
    "# 3. Track model training\n",
    "for epoch in range(1, 6):\n",
    "    vae.train()\n",
    "    training_loss = 0\n",
    "    for batch_idx, (data, _) in  enumerate(train_loader):\n",
    "        optimizer.zero_grad()\n",
    "        x_hat, mu, logvar = vae(data)\n",
    "        loss = TorchModel.loss_function(x_hat, data, mu, logvar)\n",
    "        loss.backward()\n",
    "        training_loss += loss.item()\n",
    "        optimizer.step()\n",
    "        writer2.add_scalar('training/loss', training_loss, epoch * len(train_loader)+batch_idx)\n",
    "        training_loss = 0\n",
    "\n",
    "writer2.flush()\n",
    "writer2.close()"
   ]
  }
 ],
 "metadata": {
  "kernelspec": {
   "display_name": "Python 3.9.13 ('MAC-GPU')",
   "language": "python",
   "name": "python3"
  },
  "language_info": {
   "codemirror_mode": {
    "name": "ipython",
    "version": 3
   },
   "file_extension": ".py",
   "mimetype": "text/x-python",
   "name": "python",
   "nbconvert_exporter": "python",
   "pygments_lexer": "ipython3",
   "version": "3.9.13"
  },
  "orig_nbformat": 4,
  "vscode": {
   "interpreter": {
    "hash": "82ebbbba6002e52ffd5c3db618d60685134ba8ae181eb7df3dc9e0c9fc17132c"
   }
  }
 },
 "nbformat": 4,
 "nbformat_minor": 2
}
