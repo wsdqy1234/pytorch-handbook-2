{
 "cells": [
  {
   "cell_type": "markdown",
   "metadata": {},
   "source": [
    "# 3. Tensorboard-可视化工具包\n",
    "原Tensorflow的最强可视化工具Tensorboard已在Torch 1.4+版本进行了适配，现在可以搭配`torch.utils.tensorboard.SummaryWriter`进行使用。\n",
    "\n",
    "Tensorboard支持追踪和可视化量化指标（如loss和accuracy），可视化模型图结构（没有Netron直观好用），展示直方图、图片等等。\n",
    "\n",
    "这里贴个官方文档[简介](https://pytorch.org/tutorials/recipes/recipes/tensorboard_with_pytorch.html)与[详细版](https://pytorch.org/tutorials/intermediate/tensorboard_tutorial.html)，关于[tensorboard的文档](https://pytorch.org/docs/stable/tensorboard.html)"
   ]
  },
  {
   "cell_type": "markdown",
   "metadata": {},
   "source": [
    "## 3.1 结合SummaryWriter使用Tensorboard简洁教程"
   ]
  },
  {
   "cell_type": "markdown",
   "metadata": {},
   "source": [
    "### 3.1.1 SummaryWriter保存标量Log信息\n",
    "利用`SummaryWriter`的`add_scalar(tag, scalar_value, global_step=None, walltime=None)`方法Log标量信息，默认保存在`./runs/`目录下。\n",
    "\n",
    "下面演示一下线性回归训练过程的标量Log信息保存"
   ]
  },
  {
   "cell_type": "code",
   "execution_count": 5,
   "metadata": {},
   "outputs": [],
   "source": [
    "import torch\n",
    "from torch.utils.tensorboard import SummaryWriter\n",
    "\n",
    "writer = SummaryWriter('./data/log/',comment='LinearRegression')\n",
    "\n",
    "# Data\n",
    "x = torch.arange(-5, 5, 0.1).view(-1, 1) # -5:0.1:5\n",
    "y = -5 * x + 0.1 * torch.randn(x.size()) # y = -5x + \\epsilon\n",
    "# Linear Regression\n",
    "model = torch.nn.Linear(1, 1)\n",
    "criterion = torch.nn.MSELoss()\n",
    "optimizer = torch.optim.SGD(model.parameters(), lr = 1e-2)\n",
    "\n",
    "# Train\n",
    "def LR_training(iter):\n",
    "    for epoch in range(iter):\n",
    "        y1 = model(x)\n",
    "        loss = criterion(y1, y)\n",
    "        writer.add_scalar(\"Loss/train\", loss, epoch) # global_step indicates the horizotal coordinate\n",
    "        optimizer.zero_grad()\n",
    "        loss.backward()\n",
    "        optimizer.step()\n",
    "\n",
    "if __name__ == \"__main__\":\n",
    "    epoch = 100\n",
    "    LR_training(epoch)\n",
    "    writer.flush() # make sure all the pending events have been written to disk\n",
    "    writer.close() # if u don't want to summary anything"
   ]
  },
  {
   "cell_type": "markdown",
   "metadata": {},
   "source": [
    "### 3.1.2 使用Tensorboard查看Log信息\n",
    "而后在终端输入`tensorboard --logdir=data/log`，其中logdir为保存log的路径，然后浏览器打开 http://localhost:6006/ 即可看到Log中的标量信息：\n",
    "\n",
    "<p align=center>\n",
    "<img src=\"./fig/3-1.png\" width=1000>\n",
    "</p>\n",
    "\n",
    "其中smoothing对结果做了平滑，用来看loss下降的趋势，默认为0.6"
   ]
  },
  {
   "cell_type": "markdown",
   "metadata": {},
   "source": [
    "## 3.2 SummaryWriter文档总结\n",
    "具体调用方式可以参考[torch.utils.tensorboard](https://pytorch.org/docs/stable/tensorboard.html)\n",
    "\n",
    "现假设利用SummaryWriter实例化了一个对象`writer`，可以使用`writer.add_scalar()`等方法向Log日志中添加输出信息，支持以下方法：\n",
    "\n",
    "|方法名|作用|\n",
    "|---|---|\n",
    "|add_scalar|1个tag加入1个标量|\n",
    "|add_scalars|1个tag加入多个标量|1=\n",
    "|add_histogram|加入直方图|\n",
    "|add_image|1个tag加入1张图片(3,H,W)|\n",
    "|add_images|1个tag加入多张图片(N,3,H,W)|\n",
    "|add_figure|将matplotlib的图加入|\n",
    "|add_text|加入语言描述，没啥用|\n",
    "|add_graph|加入模型结构图，我的评价是不如Netron|\n",
    "|add_embedding|加入低维embedding用于可视化|\n",
    "|add_mesh|加入网格/3D点云并可视化|\n",
    "|add_hparams|加入一系列超参来比对效果，很实用|"
   ]
  },
  {
   "cell_type": "markdown",
   "metadata": {},
   "source": [
    "## 3.3 Tensorboard常用方法与示意图\n",
    "以1-TorchModel.ipynb中VAE模型处理MNIST数据为例，阐述Tensorboard的常用方法及其示意图。"
   ]
  },
  {
   "cell_type": "code",
   "execution_count": 3,
   "metadata": {},
   "outputs": [
    {
     "ename": "RuntimeError",
     "evalue": "Dataset not found. You can use download=True to download it",
     "output_type": "error",
     "traceback": [
      "\u001b[0;31m---------------------------------------------------------------------------\u001b[0m",
      "\u001b[0;31mRuntimeError\u001b[0m                              Traceback (most recent call last)",
      "\u001b[0;32m/var/folders/fw/by0ngc4j67x7597xgdhn13xr0000gn/T/ipykernel_18113/2645385514.py\u001b[0m in \u001b[0;36m<cell line: 1>\u001b[0;34m()\u001b[0m\n\u001b[0;32m----> 1\u001b[0;31m \u001b[0;32mfrom\u001b[0m \u001b[0mlib\u001b[0m \u001b[0;32mimport\u001b[0m \u001b[0mTorchModel\u001b[0m\u001b[0;34m\u001b[0m\u001b[0;34m\u001b[0m\u001b[0m\n\u001b[0m\u001b[1;32m      2\u001b[0m \u001b[0;34m\u001b[0m\u001b[0m\n\u001b[1;32m      3\u001b[0m \u001b[0;32mfor\u001b[0m \u001b[0mepoch\u001b[0m \u001b[0;32min\u001b[0m \u001b[0mrange\u001b[0m\u001b[0;34m(\u001b[0m\u001b[0;36m1\u001b[0m\u001b[0;34m,\u001b[0m \u001b[0margs\u001b[0m\u001b[0;34m.\u001b[0m\u001b[0mepochs\u001b[0m \u001b[0;34m+\u001b[0m\u001b[0;36m1\u001b[0m\u001b[0;34m)\u001b[0m\u001b[0;34m:\u001b[0m\u001b[0;34m\u001b[0m\u001b[0;34m\u001b[0m\u001b[0m\n\u001b[1;32m      4\u001b[0m     \u001b[0mtrain\u001b[0m\u001b[0;34m(\u001b[0m\u001b[0mepoch\u001b[0m\u001b[0;34m)\u001b[0m\u001b[0;34m\u001b[0m\u001b[0;34m\u001b[0m\u001b[0m\n\u001b[1;32m      5\u001b[0m     \u001b[0mtest\u001b[0m\u001b[0;34m(\u001b[0m\u001b[0mepoch\u001b[0m\u001b[0;34m)\u001b[0m\u001b[0;34m\u001b[0m\u001b[0;34m\u001b[0m\u001b[0m\n",
      "\u001b[0;32m~/Nutstore Files/我的直博-桌面版/Github专用/pytorch-handbook-2/lib/TorchModel.py\u001b[0m in \u001b[0;36m<module>\u001b[0;34m\u001b[0m\n\u001b[1;32m     73\u001b[0m \u001b[0;31m# Dataloader for training and testing (read img as chw format)\u001b[0m\u001b[0;34m\u001b[0m\u001b[0;34m\u001b[0m\u001b[0m\n\u001b[1;32m     74\u001b[0m train_loader = torch.utils.data.DataLoader(\n\u001b[0;32m---> 75\u001b[0;31m     \u001b[0mdatasets\u001b[0m\u001b[0;34m.\u001b[0m\u001b[0mMNIST\u001b[0m\u001b[0;34m(\u001b[0m\u001b[0;34m'./data'\u001b[0m\u001b[0;34m,\u001b[0m \u001b[0mtrain\u001b[0m \u001b[0;34m=\u001b[0m \u001b[0;32mTrue\u001b[0m\u001b[0;34m,\u001b[0m \u001b[0mdownload\u001b[0m \u001b[0;34m=\u001b[0m \u001b[0;32mFalse\u001b[0m\u001b[0;34m,\u001b[0m \u001b[0mtransform\u001b[0m \u001b[0;34m=\u001b[0m \u001b[0mtransforms\u001b[0m\u001b[0;34m.\u001b[0m\u001b[0mToTensor\u001b[0m\u001b[0;34m(\u001b[0m\u001b[0;34m)\u001b[0m\u001b[0;34m)\u001b[0m\u001b[0;34m,\u001b[0m\u001b[0;34m\u001b[0m\u001b[0;34m\u001b[0m\u001b[0m\n\u001b[0m\u001b[1;32m     76\u001b[0m     batch_size = args.batch_size, shuffle = True, **kwargs)\n\u001b[1;32m     77\u001b[0m \u001b[0;34m\u001b[0m\u001b[0m\n",
      "\u001b[0;32m~/opt/anaconda3/envs/MAC-GPU/lib/python3.9/site-packages/torchvision/datasets/mnist.py\u001b[0m in \u001b[0;36m__init__\u001b[0;34m(self, root, train, transform, target_transform, download)\u001b[0m\n\u001b[1;32m    100\u001b[0m \u001b[0;34m\u001b[0m\u001b[0m\n\u001b[1;32m    101\u001b[0m         \u001b[0;32mif\u001b[0m \u001b[0;32mnot\u001b[0m \u001b[0mself\u001b[0m\u001b[0;34m.\u001b[0m\u001b[0m_check_exists\u001b[0m\u001b[0;34m(\u001b[0m\u001b[0;34m)\u001b[0m\u001b[0;34m:\u001b[0m\u001b[0;34m\u001b[0m\u001b[0;34m\u001b[0m\u001b[0m\n\u001b[0;32m--> 102\u001b[0;31m             \u001b[0;32mraise\u001b[0m \u001b[0mRuntimeError\u001b[0m\u001b[0;34m(\u001b[0m\u001b[0;34m\"Dataset not found. You can use download=True to download it\"\u001b[0m\u001b[0;34m)\u001b[0m\u001b[0;34m\u001b[0m\u001b[0;34m\u001b[0m\u001b[0m\n\u001b[0m\u001b[1;32m    103\u001b[0m \u001b[0;34m\u001b[0m\u001b[0m\n\u001b[1;32m    104\u001b[0m         \u001b[0mself\u001b[0m\u001b[0;34m.\u001b[0m\u001b[0mdata\u001b[0m\u001b[0;34m,\u001b[0m \u001b[0mself\u001b[0m\u001b[0;34m.\u001b[0m\u001b[0mtargets\u001b[0m \u001b[0;34m=\u001b[0m \u001b[0mself\u001b[0m\u001b[0;34m.\u001b[0m\u001b[0m_load_data\u001b[0m\u001b[0;34m(\u001b[0m\u001b[0;34m)\u001b[0m\u001b[0;34m\u001b[0m\u001b[0;34m\u001b[0m\u001b[0m\n",
      "\u001b[0;31mRuntimeError\u001b[0m: Dataset not found. You can use download=True to download it"
     ]
    }
   ],
   "source": [
    "from lib import TorchModel\n",
    "\n",
    "for epoch in range(1, args.epochs +1):\n",
    "    train(epoch)\n",
    "    test(epoch)\n",
    "    # Test Decoder\n",
    "    with torch.no_grad():\n",
    "        sample = torch.randn(64, 20).to(args.device)\n",
    "        sample = model.decode(sample).cpu()\n",
    "        save_image(sample.view(64, 1, 28, 28),\n",
    "            './data/results/sample_'+str(epoch)+'.png')      \n"
   ]
  }
 ],
 "metadata": {
  "kernelspec": {
   "display_name": "Python 3.9.13 ('MAC-GPU')",
   "language": "python",
   "name": "python3"
  },
  "language_info": {
   "codemirror_mode": {
    "name": "ipython",
    "version": 3
   },
   "file_extension": ".py",
   "mimetype": "text/x-python",
   "name": "python",
   "nbconvert_exporter": "python",
   "pygments_lexer": "ipython3",
   "version": "3.9.13"
  },
  "orig_nbformat": 4,
  "vscode": {
   "interpreter": {
    "hash": "82ebbbba6002e52ffd5c3db618d60685134ba8ae181eb7df3dc9e0c9fc17132c"
   }
  }
 },
 "nbformat": 4,
 "nbformat_minor": 2
}
