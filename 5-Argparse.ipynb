{
 "cells": [
  {
   "cell_type": "markdown",
   "metadata": {},
   "source": [
    "# 5. Argparse简介与torch中的用法\n",
    "argparse是python标准库中的**命令行参数解析包**，用于读取命令行参数。\n",
    "下面简单介绍argparse包的一般用法"
   ]
  },
  {
   "cell_type": "code",
   "execution_count": 5,
   "metadata": {},
   "outputs": [
    {
     "name": "stdout",
     "output_type": "stream",
     "text": [
      "Name:  Dai \tAge:  23\n"
     ]
    }
   ],
   "source": [
    "import argparse\n",
    "\n",
    "parser = argparse.ArgumentParser(description = \"Demo of argparse\") # create a parser\n",
    "\n",
    "parser.add_argument('-n', '--name', type=str, default = 'Dai',\n",
    "                    help = 'A man\\'s name') # add arguments to the parser, where the names of the arguments refer to xxx in '--xxx'.\n",
    "\n",
    "parser.add_argument('-a', '--age', type=int, default = 23,\n",
    "                    help= 'His age')   # And in cmd, use command 'python 5-Argparse.py -n Wang -a 30' to input\n",
    "\n",
    "args = parser.parse_args() # Read the args from cmd\n",
    "# args = parser.parse_args(args=[]) # Use args=[] to run correctly in ipython kernel.\n",
    "print(\"Name: \",args.name, \"\\tAge: \",args.age)"
   ]
  },
  {
   "cell_type": "markdown",
   "metadata": {},
   "source": [
    "当我们直接运行`python Argparse-example.py`时，程序会输出parser默认的args值\n",
    "\n",
    "![](./fig/5-1.png)\n",
    "\n",
    "\n",
    "当我们寻求帮助时，通过`python Argparse-example.py -h`获取到parser的输入规则\n",
    "\n",
    "![](./fig/5-2.png)\n",
    "\n",
    "\n",
    "当我们想要改变parser对应参数值时，利用`python Argparse-example.py -n Peng -a 22`可以得到\n",
    "\n",
    "![](./fig/5-3.png)"
   ]
  }
 ],
 "metadata": {
  "kernelspec": {
   "display_name": "Python 3.9.13 ('MAC-GPU')",
   "language": "python",
   "name": "python3"
  },
  "language_info": {
   "codemirror_mode": {
    "name": "ipython",
    "version": 3
   },
   "file_extension": ".py",
   "mimetype": "text/x-python",
   "name": "python",
   "nbconvert_exporter": "python",
   "pygments_lexer": "ipython3",
   "version": "3.9.13"
  },
  "orig_nbformat": 4,
  "vscode": {
   "interpreter": {
    "hash": "82ebbbba6002e52ffd5c3db618d60685134ba8ae181eb7df3dc9e0c9fc17132c"
   }
  }
 },
 "nbformat": 4,
 "nbformat_minor": 2
}
