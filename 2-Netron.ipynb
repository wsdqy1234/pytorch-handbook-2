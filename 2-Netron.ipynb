{
 "cells": [
  {
   "cell_type": "markdown",
   "metadata": {},
   "source": [
    "# 2. Netron-Torch网络结构可视化\n",
    "介绍一种可视化Torch网络结构的应用[Netron](https://github.com/lutzroeder/netron)，其支持读取Torch输出的.onnx格式模型文件，并在应用中作出模型结构图。\n",
    "\n",
    "这里给出一个应用案例，我们将1-TorchModel.ipynb中的VAE网络结构可视化："
   ]
  },
  {
   "cell_type": "code",
   "execution_count": 15,
   "metadata": {},
   "outputs": [],
   "source": [
    "import torch\n",
    "from torch import nn, optim\n",
    "from torch.nn import functional as F\n",
    "\n",
    "# Model Definition\n",
    "class VAE(nn.Module):\n",
    "    def __init__(self):\n",
    "        super(VAE, self).__init__()\n",
    "\n",
    "        self.fc1 = nn.Linear(784, 400)\n",
    "        self.fc21 = nn.Linear(400, 20) # Mu\n",
    "        self.fc22 = nn.Linear(400, 20) # log(Var)\n",
    "        self.fc3 = nn.Linear(20, 400)\n",
    "        self.fc4 = nn.Linear(400, 784)\n",
    "    \n",
    "    def encoder(self, x):\n",
    "        h1 = F.relu(self.fc1(x))\n",
    "        mu = self.fc21(h1)\n",
    "        logvar = self.fc22(h1)\n",
    "        return mu, logvar\n",
    "    \n",
    "    def reparameterize(self, mu, logvar):\n",
    "        std = torch.exp(0.5*logvar)\n",
    "        eps = torch.randn_like(std)\n",
    "        return mu + eps*std\n",
    "    \n",
    "    def decode(self, z):\n",
    "        h3 = F.relu(self.fc3(z))\n",
    "        return torch.sigmoid(self.fc4(h3))\n",
    "    \n",
    "    def forward(self, x):\n",
    "        y = x.view(-1, 784)\n",
    "        mu, logvar = self.encoder(y)\n",
    "        z = self.reparameterize(mu, logvar)\n",
    "        return self.decode(z), mu, logvar\n",
    "\n",
    "# Model\n",
    "vae = VAE()\n",
    "\n",
    "# Input\n",
    "input = torch.randn([1, 1, 28, 28])\n",
    "\n",
    "# Save Model and Input to onnx file\n",
    "torch.onnx.export(vae, input, \"./data/models/VAE.onnx\")"
   ]
  },
  {
   "cell_type": "markdown",
   "metadata": {},
   "source": [
    "利用Netron应用打开模型后，得到模型结构如图所示：\n",
    "\n",
    "<p align=center>\n",
    "<img src=\"./fig/2-1.png\" width=1500>\n",
    "</p>\n",
    "\n",
    "其中，还可以单击各个模块查看变换细节：\n",
    "\n",
    "<p align=center>\n",
    "<img src=\"./fig/2-2.png\" width=1000>\n",
    "</p>"
   ]
  }
 ],
 "metadata": {
  "kernelspec": {
   "display_name": "Python 3.9.13 ('MAC-GPU')",
   "language": "python",
   "name": "python3"
  },
  "language_info": {
   "codemirror_mode": {
    "name": "ipython",
    "version": 3
   },
   "file_extension": ".py",
   "mimetype": "text/x-python",
   "name": "python",
   "nbconvert_exporter": "python",
   "pygments_lexer": "ipython3",
   "version": "3.9.13"
  },
  "orig_nbformat": 4,
  "vscode": {
   "interpreter": {
    "hash": "82ebbbba6002e52ffd5c3db618d60685134ba8ae181eb7df3dc9e0c9fc17132c"
   }
  }
 },
 "nbformat": 4,
 "nbformat_minor": 2
}
